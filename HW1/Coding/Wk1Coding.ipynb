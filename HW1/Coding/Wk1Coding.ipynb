{
 "cells": [
  {
   "cell_type": "code",
   "execution_count": 188,
   "metadata": {},
   "outputs": [],
   "source": [
    "import os\n",
    "import numpy as np\n",
    "import pandas as pd\n",
    "from sklearn.svm import SVC\n",
    "from sklearn.metrics import accuracy_score"
   ]
  },
  {
   "cell_type": "code",
   "execution_count": 323,
   "metadata": {},
   "outputs": [],
   "source": [
    "### Read data into a DataFrame\n",
    "def read_data():\n",
    "    images = []\n",
    "    labels = []\n",
    "    file = open('trainset_gt_annotations.txt', 'r')\n",
    "    for line in file:\n",
    "        a = line.rstrip().split()\n",
    "        images.append(a[0])\n",
    "        label = a[1:]\n",
    "        label = list(map(int, label))\n",
    "        labels.append(label)\n",
    "    np_labels = np.array(labels)\n",
    "    \n",
    "    cats = []\n",
    "    file2 = open('concepts_2011.txt', 'r')\n",
    "    for line in file2:\n",
    "        a = line.rstrip().split()\n",
    "        cats.append(a[1])\n",
    "    cats = cats[1:]\n",
    "    \n",
    "    df = pd.DataFrame(np_labels, columns=cats)\n",
    "    df.insert(loc=0, column='Image', value=images)\n",
    "    \n",
    "    return df"
   ]
  },
  {
   "cell_type": "code",
   "execution_count": 324,
   "metadata": {},
   "outputs": [],
   "source": [
    "df = read_data()\n",
    "# df"
   ]
  },
  {
   "cell_type": "code",
   "execution_count": 325,
   "metadata": {},
   "outputs": [],
   "source": [
    "def train_test_split(df):\n",
    "    temp_train_list = []\n",
    "    temp_validate_list = []\n",
    "    temp_test_list = []\n",
    "    headers = ['Image', 'Spring', 'Summer', 'Autumn', 'Winter']\n",
    "    for i in range(1, 5):   \n",
    "        temp_df = df.loc[df[headers[i]] == 1]\n",
    "        temp_train = temp_df.iloc[0:int(temp_df.shape[0]*0.6)]\n",
    "        temp_train_list.append(temp_train)\n",
    "        temp_validate = temp_df.iloc[int(temp_df.shape[0]*0.6):int(temp_df.shape[0]*0.7)]\n",
    "        temp_validate_list.append(temp_validate)\n",
    "        temp_test = temp_df.iloc[int(temp_df.shape[0]*0.7):int(temp_df.shape[0])]\n",
    "        temp_test_list.append(temp_test)\n",
    "\n",
    "    train = pd.concat(temp_train_list, axis=0)\n",
    "    validate = pd.concat(temp_validate_list, axis=0)\n",
    "    test = pd.concat(temp_test_list, axis=0)\n",
    "\n",
    "    train = train.drop_duplicates(subset=['Image'])\n",
    "    validate = validate.drop_duplicates(subset=['Image'])\n",
    "    test = test.drop_duplicates(subset=['Image'])\n",
    "    return train, validate, test"
   ]
  },
  {
   "cell_type": "code",
   "execution_count": 326,
   "metadata": {},
   "outputs": [],
   "source": [
    "def first_exp(df):\n",
    "    first_df = df.loc[(df['Spring'] == 1) | (df['Summer'] == 1) | (df['Autumn'] == 1) | (df['Winter'] == 1)]\n",
    "    name = first_df[['Image']]\n",
    "    spring = first_df[['Spring']]\n",
    "    summer = first_df[['Summer']]\n",
    "    autumn = first_df[['Autumn']]\n",
    "    winter = first_df[['Winter']]\n",
    "    \n",
    "    opt = pd.concat([name, spring, summer, autumn, winter], axis=1)\n",
    "    return opt"
   ]
  },
  {
   "cell_type": "code",
   "execution_count": 327,
   "metadata": {},
   "outputs": [],
   "source": [
    "opt = first_exp(df)"
   ]
  },
  {
   "cell_type": "code",
   "execution_count": 328,
   "metadata": {},
   "outputs": [],
   "source": [
    "# opt"
   ]
  },
  {
   "cell_type": "code",
   "execution_count": 329,
   "metadata": {},
   "outputs": [],
   "source": [
    "train, validate, test = train_test_split(opt)"
   ]
  },
  {
   "cell_type": "code",
   "execution_count": 330,
   "metadata": {},
   "outputs": [],
   "source": [
    "# train"
   ]
  },
  {
   "cell_type": "code",
   "execution_count": 303,
   "metadata": {},
   "outputs": [
    {
     "data": {
      "text/plain": [
       "'{0BE217E8-9A7C-4CC1-B1A6-B471850C938F}.jpg_ft.npy'"
      ]
     },
     "execution_count": 303,
     "metadata": {},
     "output_type": "execute_result"
    }
   ],
   "source": [
    "# os.listdir('imageclef2011_feats/')[16]"
   ]
  },
  {
   "cell_type": "code",
   "execution_count": 332,
   "metadata": {},
   "outputs": [],
   "source": [
    "def get_np_array(df):\n",
    "#     img_index = df.index.tolist()\n",
    "#     print(img_index)\n",
    "#     print(img_index)\n",
    "#     img_names = os.listdir('imageclef2011_feats/')\n",
    "    img_names = df['Image'].tolist()\n",
    "    img_labels = pd.concat([df[['Spring']], df[['Summer']], df[['Autumn']], df[['Winter']]], axis=1)\n",
    "    \n",
    "    np_img = np.zeros((1, 1024))\n",
    "    for i in range(len(img_names)):\n",
    "        temp = np.load('imageclef2011_feats/' + img_names[i] + '_ft.npy')\n",
    "        re_temp = temp.reshape(1, 1024)\n",
    "        np_img = np.append(np_img, re_temp, axis=0)\n",
    "    \n",
    "    np_img = np.delete(np_img, (0), axis=0)\n",
    "    np_labels = img_labels.values\n",
    "    return np_img, np_labels"
   ]
  },
  {
   "cell_type": "code",
   "execution_count": 333,
   "metadata": {},
   "outputs": [],
   "source": [
    "np_img, np_labels = get_np_array(train)"
   ]
  },
  {
   "cell_type": "code",
   "execution_count": 334,
   "metadata": {},
   "outputs": [],
   "source": [
    "# np_labels"
   ]
  },
  {
   "cell_type": "code",
   "execution_count": 335,
   "metadata": {},
   "outputs": [],
   "source": [
    "def get_data():\n",
    "    df = read_data()\n",
    "    opt = first_exp(df)\n",
    "    train, validate, test = train_test_split(opt)\n",
    "    \n",
    "    train_x, train_y = get_np_array(train)\n",
    "    validate_x, validate_y = get_np_array(validate)\n",
    "    test_x, test_y = get_np_array(test)\n",
    "    \n",
    "    return train_x, train_y, validate_x, validate_y, test_x, test_y"
   ]
  },
  {
   "cell_type": "code",
   "execution_count": 336,
   "metadata": {},
   "outputs": [],
   "source": [
    "train_x, train_y, validate_x, validate_y, test_x, test_y = get_data()"
   ]
  },
  {
   "cell_type": "code",
   "execution_count": 337,
   "metadata": {},
   "outputs": [],
   "source": [
    "# train_y[:,0]"
   ]
  },
  {
   "cell_type": "code",
   "execution_count": 352,
   "metadata": {},
   "outputs": [],
   "source": [
    "def train_img(train_x, train_y, c):\n",
    "    svms = []\n",
    "    for i in range(4):\n",
    "#         print(train_x)\n",
    "#         print(train_y[:,i])\n",
    "        svm = SVC(kernel='linear', C=c, probability=True)\n",
    "        svm.fit(train_x, train_y[:,i])\n",
    "        svms.append(svm)\n",
    "    return svms"
   ]
  },
  {
   "cell_type": "code",
   "execution_count": 353,
   "metadata": {},
   "outputs": [],
   "source": [
    "# svms"
   ]
  },
  {
   "cell_type": "code",
   "execution_count": 354,
   "metadata": {},
   "outputs": [],
   "source": [
    "svms = train_img(train_x, train_y, 0.1)"
   ]
  },
  {
   "cell_type": "code",
   "execution_count": 355,
   "metadata": {},
   "outputs": [],
   "source": [
    "def test_img(validate_x, validate_y, svms):\n",
    "    y_preds = []\n",
    "    for i in range(4):\n",
    "        y_pred = svms[i].predict_proba(validate_x)\n",
    "#         print(y_pred)\n",
    "        y_preds.append(np.delete(y_pred, (0), axis=1))\n",
    "        \n",
    "    opt = np.concatenate(y_preds, axis=1)\n",
    "    \n",
    "    predictions = []\n",
    "    ground_truth = []\n",
    "    for i in range(validate_x.shape[0]):\n",
    "        predictions.append(np.argmax(opt[i,:]))\n",
    "        ground_truth.append(np.argmax(validate_y[i,:]))\n",
    "    \n",
    "    return predictions, ground_truth\n",
    "#     return y_preds"
   ]
  },
  {
   "cell_type": "code",
   "execution_count": 356,
   "metadata": {},
   "outputs": [],
   "source": [
    "predictions, ground_truth = test_img(validate_x, validate_y, svms)"
   ]
  },
  {
   "cell_type": "code",
   "execution_count": 357,
   "metadata": {},
   "outputs": [],
   "source": [
    "true0 = 0\n",
    "true1 = 0\n",
    "true2 = 0\n",
    "true3 = 0\n",
    "for i in range(len(predictions)):\n",
    "    if predictions[i] == ground_truth[i]:\n",
    "        if"
   ]
  },
  {
   "cell_type": "code",
   "execution_count": 358,
   "metadata": {},
   "outputs": [
    {
     "data": {
      "text/plain": [
       "0.7111111111111111"
      ]
     },
     "execution_count": 358,
     "metadata": {},
     "output_type": "execute_result"
    }
   ],
   "source": [
    "true/ len(predictions)"
   ]
  },
  {
   "cell_type": "code",
   "execution_count": null,
   "metadata": {},
   "outputs": [],
   "source": []
  }
 ],
 "metadata": {
  "kernelspec": {
   "display_name": "Python 3",
   "language": "python",
   "name": "python3"
  },
  "language_info": {
   "codemirror_mode": {
    "name": "ipython",
    "version": 3
   },
   "file_extension": ".py",
   "mimetype": "text/x-python",
   "name": "python",
   "nbconvert_exporter": "python",
   "pygments_lexer": "ipython3",
   "version": "3.6.7"
  }
 },
 "nbformat": 4,
 "nbformat_minor": 2
}
